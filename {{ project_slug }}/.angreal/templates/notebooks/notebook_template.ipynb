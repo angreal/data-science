{% raw %}
{
 "cells": [
  {
   "cell_type": "markdown",
   "metadata": {},
   "source": [
    "# {{ notebook_title }}\n",
    "\n",
    "**Author:** {{ notebook_author }}\n",
    "**Date:** {{ notebook_date }}\n",
    "**Epoch:** {{ epoch_number }}\n",
    "\n",
    "## Overview\n",
    "\n",
    "Briefly describe the purpose of this notebook.\n",
    "\n",
    "## Goals\n",
    "\n",
    "- Goal 1\n",
    "- Goal 2\n",
    "- Goal 3"
   ]
  },
  {
   "cell_type": "code",
   "execution_count": null,
   "metadata": {},
   "source": [
    "# Standard imports\n",
    "# Project imports\n",
    "from {{ package_name }}.utils.notebook import setup_notebook\n",
    "\n",
    "setup_notebook()\n",
    "\n",
    "# Import other project modules as needed\n",
    "import {{ package_name }}"
   ]
  },
 ],
 "metadata": {
  "kernelspec": {
   "display_name": "Python 3",
   "language": "python",
   "name": "python3"
  },
  "language_info": {
   "codemirror_mode": {
    "name": "ipython",
    "version": 3
   },
   "file_extension": ".py",
   "mimetype": "text/x-python",
   "name": "python",
   "nbconvert_exporter": "python",
   "pygments_lexer": "ipython3",
   "version": "3.8.10"
  }
 },
 "nbformat": 4,
 "nbformat_minor": 4
}
{% endraw %}
